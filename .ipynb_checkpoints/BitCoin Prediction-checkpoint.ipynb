{
 "cells": [
  {
   "cell_type": "markdown",
   "metadata": {},
   "source": [
    "## Import all the libraries"
   ]
  },
  {
   "cell_type": "code",
   "execution_count": 1,
   "metadata": {},
   "outputs": [],
   "source": [
    "import numpy as np\n",
    "import pandas as pd\n",
    "import seaborn as sns\n",
    "import matplotlib.pyplot as plt\n",
    "%matplotlib inline"
   ]
  },
  {
   "cell_type": "markdown",
   "metadata": {},
   "source": [
    "## Read the data into dataframe"
   ]
  },
  {
   "cell_type": "code",
   "execution_count": 2,
   "metadata": {},
   "outputs": [],
   "source": [
    "df = pd.read_csv(\"datasetbitcoin.csv\")"
   ]
  },
  {
   "cell_type": "code",
   "execution_count": 3,
   "metadata": {},
   "outputs": [
    {
     "data": {
      "text/html": [
       "<div>\n",
       "<style scoped>\n",
       "    .dataframe tbody tr th:only-of-type {\n",
       "        vertical-align: middle;\n",
       "    }\n",
       "\n",
       "    .dataframe tbody tr th {\n",
       "        vertical-align: top;\n",
       "    }\n",
       "\n",
       "    .dataframe thead th {\n",
       "        text-align: right;\n",
       "    }\n",
       "</style>\n",
       "<table border=\"1\" class=\"dataframe\">\n",
       "  <thead>\n",
       "    <tr style=\"text-align: right;\">\n",
       "      <th></th>\n",
       "      <th>Date</th>\n",
       "      <th>Price</th>\n",
       "    </tr>\n",
       "  </thead>\n",
       "  <tbody>\n",
       "    <tr>\n",
       "      <th>0</th>\n",
       "      <td>5/23/2019</td>\n",
       "      <td>7881.846680</td>\n",
       "    </tr>\n",
       "    <tr>\n",
       "      <th>1</th>\n",
       "      <td>5/24/2019</td>\n",
       "      <td>7987.371582</td>\n",
       "    </tr>\n",
       "    <tr>\n",
       "      <th>2</th>\n",
       "      <td>5/25/2019</td>\n",
       "      <td>8052.543945</td>\n",
       "    </tr>\n",
       "    <tr>\n",
       "      <th>3</th>\n",
       "      <td>5/26/2019</td>\n",
       "      <td>8673.215820</td>\n",
       "    </tr>\n",
       "    <tr>\n",
       "      <th>4</th>\n",
       "      <td>5/27/2019</td>\n",
       "      <td>8805.778320</td>\n",
       "    </tr>\n",
       "  </tbody>\n",
       "</table>\n",
       "</div>"
      ],
      "text/plain": [
       "        Date        Price\n",
       "0  5/23/2019  7881.846680\n",
       "1  5/24/2019  7987.371582\n",
       "2  5/25/2019  8052.543945\n",
       "3  5/26/2019  8673.215820\n",
       "4  5/27/2019  8805.778320"
      ]
     },
     "execution_count": 3,
     "metadata": {},
     "output_type": "execute_result"
    }
   ],
   "source": [
    "df.head() #check the data"
   ]
  },
  {
   "cell_type": "code",
   "execution_count": 4,
   "metadata": {},
   "outputs": [
    {
     "data": {
      "text/html": [
       "<div>\n",
       "<style scoped>\n",
       "    .dataframe tbody tr th:only-of-type {\n",
       "        vertical-align: middle;\n",
       "    }\n",
       "\n",
       "    .dataframe tbody tr th {\n",
       "        vertical-align: top;\n",
       "    }\n",
       "\n",
       "    .dataframe thead th {\n",
       "        text-align: right;\n",
       "    }\n",
       "</style>\n",
       "<table border=\"1\" class=\"dataframe\">\n",
       "  <thead>\n",
       "    <tr style=\"text-align: right;\">\n",
       "      <th></th>\n",
       "      <th>Date</th>\n",
       "      <th>Price</th>\n",
       "    </tr>\n",
       "  </thead>\n",
       "  <tbody>\n",
       "    <tr>\n",
       "      <th>362</th>\n",
       "      <td>5/19/2020</td>\n",
       "      <td>9729.038086</td>\n",
       "    </tr>\n",
       "    <tr>\n",
       "      <th>363</th>\n",
       "      <td>5/20/2020</td>\n",
       "      <td>9522.981445</td>\n",
       "    </tr>\n",
       "    <tr>\n",
       "      <th>364</th>\n",
       "      <td>5/21/2020</td>\n",
       "      <td>9081.761719</td>\n",
       "    </tr>\n",
       "    <tr>\n",
       "      <th>365</th>\n",
       "      <td>5/22/2020</td>\n",
       "      <td>9182.577148</td>\n",
       "    </tr>\n",
       "    <tr>\n",
       "      <th>366</th>\n",
       "      <td>5/23/2020</td>\n",
       "      <td>9180.045898</td>\n",
       "    </tr>\n",
       "  </tbody>\n",
       "</table>\n",
       "</div>"
      ],
      "text/plain": [
       "          Date        Price\n",
       "362  5/19/2020  9729.038086\n",
       "363  5/20/2020  9522.981445\n",
       "364  5/21/2020  9081.761719\n",
       "365  5/22/2020  9182.577148\n",
       "366  5/23/2020  9180.045898"
      ]
     },
     "execution_count": 4,
     "metadata": {},
     "output_type": "execute_result"
    }
   ],
   "source": [
    "df.tail()"
   ]
  },
  {
   "cell_type": "code",
   "execution_count": 5,
   "metadata": {},
   "outputs": [
    {
     "data": {
      "text/html": [
       "<div>\n",
       "<style scoped>\n",
       "    .dataframe tbody tr th:only-of-type {\n",
       "        vertical-align: middle;\n",
       "    }\n",
       "\n",
       "    .dataframe tbody tr th {\n",
       "        vertical-align: top;\n",
       "    }\n",
       "\n",
       "    .dataframe thead th {\n",
       "        text-align: right;\n",
       "    }\n",
       "</style>\n",
       "<table border=\"1\" class=\"dataframe\">\n",
       "  <thead>\n",
       "    <tr style=\"text-align: right;\">\n",
       "      <th></th>\n",
       "      <th>Price</th>\n",
       "    </tr>\n",
       "  </thead>\n",
       "  <tbody>\n",
       "    <tr>\n",
       "      <th>count</th>\n",
       "      <td>367.000000</td>\n",
       "    </tr>\n",
       "    <tr>\n",
       "      <th>mean</th>\n",
       "      <td>8810.429461</td>\n",
       "    </tr>\n",
       "    <tr>\n",
       "      <th>std</th>\n",
       "      <td>1486.188684</td>\n",
       "    </tr>\n",
       "    <tr>\n",
       "      <th>min</th>\n",
       "      <td>4970.788086</td>\n",
       "    </tr>\n",
       "    <tr>\n",
       "      <th>25%</th>\n",
       "      <td>7661.308594</td>\n",
       "    </tr>\n",
       "    <tr>\n",
       "      <th>50%</th>\n",
       "      <td>8757.788086</td>\n",
       "    </tr>\n",
       "    <tr>\n",
       "      <th>75%</th>\n",
       "      <td>9867.711426</td>\n",
       "    </tr>\n",
       "    <tr>\n",
       "      <th>max</th>\n",
       "      <td>13016.231450</td>\n",
       "    </tr>\n",
       "  </tbody>\n",
       "</table>\n",
       "</div>"
      ],
      "text/plain": [
       "              Price\n",
       "count    367.000000\n",
       "mean    8810.429461\n",
       "std     1486.188684\n",
       "min     4970.788086\n",
       "25%     7661.308594\n",
       "50%     8757.788086\n",
       "75%     9867.711426\n",
       "max    13016.231450"
      ]
     },
     "execution_count": 5,
     "metadata": {},
     "output_type": "execute_result"
    }
   ],
   "source": [
    "df.describe()"
   ]
  },
  {
   "cell_type": "code",
   "execution_count": 6,
   "metadata": {},
   "outputs": [
    {
     "data": {
      "text/plain": [
       "(367, 2)"
      ]
     },
     "execution_count": 6,
     "metadata": {},
     "output_type": "execute_result"
    }
   ],
   "source": [
    "df.shape #total data present in the dataset"
   ]
  },
  {
   "cell_type": "code",
   "execution_count": 7,
   "metadata": {},
   "outputs": [
    {
     "data": {
      "text/plain": [
       "Date     0\n",
       "Price    0\n",
       "dtype: int64"
      ]
     },
     "execution_count": 7,
     "metadata": {},
     "output_type": "execute_result"
    }
   ],
   "source": [
    "df.isnull().sum() #check the null values"
   ]
  },
  {
   "cell_type": "code",
   "execution_count": 8,
   "metadata": {},
   "outputs": [
    {
     "name": "stderr",
     "output_type": "stream",
     "text": [
      "C:\\Users\\Praffulla\\anaconda3\\lib\\site-packages\\seaborn\\distributions.py:2551: FutureWarning: `distplot` is a deprecated function and will be removed in a future version. Please adapt your code to use either `displot` (a figure-level function with similar flexibility) or `histplot` (an axes-level function for histograms).\n",
      "  warnings.warn(msg, FutureWarning)\n"
     ]
    },
    {
     "data": {
      "text/plain": [
       "<AxesSubplot:xlabel='Price'>"
      ]
     },
     "execution_count": 8,
     "metadata": {},
     "output_type": "execute_result"
    },
    {
     "data": {
      "image/png": "[encoded data removed]",
      "text/plain": [
       "<Figure size 432x288 with 1 Axes>"
      ]
     },
     "metadata": {
      "needs_background": "light"
     },
     "output_type": "display_data"
    }
   ],
   "source": [
    "sns.distplot(df['Price'],kde=False,color='red',bins=20)"
   ]
  },
  {
   "cell_type": "markdown",
   "metadata": {},
   "source": [
    "## Data Cleaning"
   ]
  },
  {
   "cell_type": "code",
   "execution_count": 9,
   "metadata": {},
   "outputs": [
    {
     "data": {
      "text/html": [
       "<div>\n",
       "<style scoped>\n",
       "    .dataframe tbody tr th:only-of-type {\n",
       "        vertical-align: middle;\n",
       "    }\n",
       "\n",
       "    .dataframe tbody tr th {\n",
       "        vertical-align: top;\n",
       "    }\n",
       "\n",
       "    .dataframe thead th {\n",
       "        text-align: right;\n",
       "    }\n",
       "</style>\n",
       "<table border=\"1\" class=\"dataframe\">\n",
       "  <thead>\n",
       "    <tr style=\"text-align: right;\">\n",
       "      <th></th>\n",
       "      <th>Price</th>\n",
       "    </tr>\n",
       "  </thead>\n",
       "  <tbody>\n",
       "    <tr>\n",
       "      <th>0</th>\n",
       "      <td>7881.846680</td>\n",
       "    </tr>\n",
       "    <tr>\n",
       "      <th>1</th>\n",
       "      <td>7987.371582</td>\n",
       "    </tr>\n",
       "    <tr>\n",
       "      <th>2</th>\n",
       "      <td>8052.543945</td>\n",
       "    </tr>\n",
       "    <tr>\n",
       "      <th>3</th>\n",
       "      <td>8673.215820</td>\n",
       "    </tr>\n",
       "    <tr>\n",
       "      <th>4</th>\n",
       "      <td>8805.778320</td>\n",
       "    </tr>\n",
       "  </tbody>\n",
       "</table>\n",
       "</div>"
      ],
      "text/plain": [
       "         Price\n",
       "0  7881.846680\n",
       "1  7987.371582\n",
       "2  8052.543945\n",
       "3  8673.215820\n",
       "4  8805.778320"
      ]
     },
     "execution_count": 9,
     "metadata": {},
     "output_type": "execute_result"
    }
   ],
   "source": [
    "df.drop(['Date'],1,inplace=True) #drop column date\n",
    "df.head()"
   ]
  },
  {
   "cell_type": "markdown",
   "metadata": {},
   "source": [
    "## To predict the 'n' days out in future"
   ]
  },
  {
   "cell_type": "code",
   "execution_count": 10,
   "metadata": {},
   "outputs": [],
   "source": [
    "pred = 30 #n = 30"
   ]
  },
  {
   "cell_type": "code",
   "execution_count": 11,
   "metadata": {},
   "outputs": [
    {
     "data": {
      "text/html": [
       "<div>\n",
       "<style scoped>\n",
       "    .dataframe tbody tr th:only-of-type {\n",
       "        vertical-align: middle;\n",
       "    }\n",
       "\n",
       "    .dataframe tbody tr th {\n",
       "        vertical-align: top;\n",
       "    }\n",
       "\n",
       "    .dataframe thead th {\n",
       "        text-align: right;\n",
       "    }\n",
       "</style>\n",
       "<table border=\"1\" class=\"dataframe\">\n",
       "  <thead>\n",
       "    <tr style=\"text-align: right;\">\n",
       "      <th></th>\n",
       "      <th>Price</th>\n",
       "      <th>Prediction</th>\n",
       "    </tr>\n",
       "  </thead>\n",
       "  <tbody>\n",
       "    <tr>\n",
       "      <th>0</th>\n",
       "      <td>7881.846680</td>\n",
       "      <td>10701.69141</td>\n",
       "    </tr>\n",
       "    <tr>\n",
       "      <th>1</th>\n",
       "      <td>7987.371582</td>\n",
       "      <td>10855.37109</td>\n",
       "    </tr>\n",
       "    <tr>\n",
       "      <th>2</th>\n",
       "      <td>8052.543945</td>\n",
       "      <td>11011.10254</td>\n",
       "    </tr>\n",
       "    <tr>\n",
       "      <th>3</th>\n",
       "      <td>8673.215820</td>\n",
       "      <td>11790.91699</td>\n",
       "    </tr>\n",
       "    <tr>\n",
       "      <th>4</th>\n",
       "      <td>8805.778320</td>\n",
       "      <td>13016.23145</td>\n",
       "    </tr>\n",
       "  </tbody>\n",
       "</table>\n",
       "</div>"
      ],
      "text/plain": [
       "         Price   Prediction\n",
       "0  7881.846680  10701.69141\n",
       "1  7987.371582  10855.37109\n",
       "2  8052.543945  11011.10254\n",
       "3  8673.215820  11790.91699\n",
       "4  8805.778320  13016.23145"
      ]
     },
     "execution_count": 11,
     "metadata": {},
     "output_type": "execute_result"
    }
   ],
   "source": [
    "df['Prediction'] = df[['Price']].shift(-pred) #adding the pred value to the dataframe\n",
    "df.head()"
   ]
  },
  {
   "cell_type": "code",
   "execution_count": 12,
   "metadata": {},
   "outputs": [
    {
     "data": {
      "text/html": [
       "<div>\n",
       "<style scoped>\n",
       "    .dataframe tbody tr th:only-of-type {\n",
       "        vertical-align: middle;\n",
       "    }\n",
       "\n",
       "    .dataframe tbody tr th {\n",
       "        vertical-align: top;\n",
       "    }\n",
       "\n",
       "    .dataframe thead th {\n",
       "        text-align: right;\n",
       "    }\n",
       "</style>\n",
       "<table border=\"1\" class=\"dataframe\">\n",
       "  <thead>\n",
       "    <tr style=\"text-align: right;\">\n",
       "      <th></th>\n",
       "      <th>Price</th>\n",
       "      <th>Prediction</th>\n",
       "    </tr>\n",
       "  </thead>\n",
       "  <tbody>\n",
       "    <tr>\n",
       "      <th>362</th>\n",
       "      <td>9729.038086</td>\n",
       "      <td>NaN</td>\n",
       "    </tr>\n",
       "    <tr>\n",
       "      <th>363</th>\n",
       "      <td>9522.981445</td>\n",
       "      <td>NaN</td>\n",
       "    </tr>\n",
       "    <tr>\n",
       "      <th>364</th>\n",
       "      <td>9081.761719</td>\n",
       "      <td>NaN</td>\n",
       "    </tr>\n",
       "    <tr>\n",
       "      <th>365</th>\n",
       "      <td>9182.577148</td>\n",
       "      <td>NaN</td>\n",
       "    </tr>\n",
       "    <tr>\n",
       "      <th>366</th>\n",
       "      <td>9180.045898</td>\n",
       "      <td>NaN</td>\n",
       "    </tr>\n",
       "  </tbody>\n",
       "</table>\n",
       "</div>"
      ],
      "text/plain": [
       "           Price  Prediction\n",
       "362  9729.038086         NaN\n",
       "363  9522.981445         NaN\n",
       "364  9081.761719         NaN\n",
       "365  9182.577148         NaN\n",
       "366  9180.045898         NaN"
      ]
     },
     "execution_count": 12,
     "metadata": {},
     "output_type": "execute_result"
    }
   ],
   "source": [
    "df.tail()"
   ]
  },
  {
   "cell_type": "markdown",
   "metadata": {},
   "source": [
    "# Creating the training (x) and testing data (y)"
   ]
  },
  {
   "cell_type": "markdown",
   "metadata": {},
   "source": [
    "## Creating Independent dataset"
   ]
  },
  {
   "cell_type": "code",
   "execution_count": 13,
   "metadata": {},
   "outputs": [
    {
     "name": "stdout",
     "output_type": "stream",
     "text": [
      "[[ 7881.84668 ]\n",
      " [ 7987.371582]\n",
      " [ 8052.543945]\n",
      " [ 8673.21582 ]\n",
      " [ 8805.77832 ]\n",
      " [ 8719.961914]\n",
      " [ 8659.487305]\n",
      " [ 8319.472656]\n",
      " [ 8574.501953]\n",
      " [ 8564.016602]\n",
      " [ 8742.958008]\n",
      " [ 8208.995117]\n",
      " [ 7707.770996]\n",
      " [ 7824.231445]\n",
      " [ 7822.023438]\n",
      " [ 8043.951172]\n",
      " [ 7954.12793 ]\n",
      " [ 7688.077148]\n",
      " [ 8000.32959 ]\n",
      " [ 7927.714355]\n",
      " [ 8145.857422]\n",
      " [ 8230.923828]\n",
      " [ 8693.833008]\n",
      " [ 8838.375   ]\n",
      " [ 8994.488281]\n",
      " [ 9320.352539]\n",
      " [ 9081.762695]\n",
      " [ 9273.521484]\n",
      " [ 9527.160156]\n",
      " [10144.55664 ]\n",
      " [10701.69141 ]\n",
      " [10855.37109 ]\n",
      " [11011.10254 ]\n",
      " [11790.91699 ]\n",
      " [13016.23145 ]\n",
      " [11182.80664 ]\n",
      " [12407.33203 ]\n",
      " [11959.37109 ]\n",
      " [10817.15527 ]\n",
      " [10583.13477 ]\n",
      " [10801.67773 ]\n",
      " [11961.26953 ]\n",
      " [11215.4375  ]\n",
      " [10978.45996 ]\n",
      " [11208.55078 ]\n",
      " [11450.84668 ]\n",
      " [12285.95801 ]\n",
      " [12573.8125  ]\n",
      " [12156.5127  ]\n",
      " [11358.66211 ]\n",
      " [11815.98633 ]\n",
      " [11392.37891 ]\n",
      " [10256.05859 ]\n",
      " [10895.08984 ]\n",
      " [ 9477.641602]\n",
      " [ 9693.802734]\n",
      " [10666.48242 ]\n",
      " [10530.73242 ]\n",
      " [10767.13965 ]\n",
      " [10599.10547 ]\n",
      " [10343.10645 ]\n",
      " [ 9900.767578]\n",
      " [ 9811.925781]\n",
      " [ 9911.841797]\n",
      " [ 9870.303711]\n",
      " [ 9477.677734]\n",
      " [ 9552.860352]\n",
      " [ 9519.145508]\n",
      " [ 9607.423828]\n",
      " [10085.62793 ]\n",
      " [10399.66895 ]\n",
      " [10518.17481 ]\n",
      " [10821.72656 ]\n",
      " [10970.18457 ]\n",
      " [11805.65332 ]\n",
      " [11478.16895 ]\n",
      " [11941.96875 ]\n",
      " [11966.40723 ]\n",
      " [11862.93652 ]\n",
      " [11354.02441 ]\n",
      " [11523.5791  ]\n",
      " [11382.61621 ]\n",
      " [10895.83008 ]\n",
      " [10051.7041  ]\n",
      " [10311.5459  ]\n",
      " [10374.33887 ]\n",
      " [10231.74414 ]\n",
      " [10345.81055 ]\n",
      " [10916.05371 ]\n",
      " [10763.23242 ]\n",
      " [10138.04981 ]\n",
      " [10131.05566 ]\n",
      " [10407.96484 ]\n",
      " [10159.96094 ]\n",
      " [10138.51758 ]\n",
      " [10370.82031 ]\n",
      " [10185.5     ]\n",
      " [ 9754.422852]\n",
      " [ 9510.200195]\n",
      " [ 9598.173828]\n",
      " [ 9630.664063]\n",
      " [ 9757.970703]\n",
      " [10346.76074 ]\n",
      " [10623.54004 ]\n",
      " [10594.49316 ]\n",
      " [10575.5332  ]\n",
      " [10353.30273 ]\n",
      " [10517.25488 ]\n",
      " [10441.27637 ]\n",
      " [10334.97461 ]\n",
      " [10115.97559 ]\n",
      " [10178.37207 ]\n",
      " [10410.12695 ]\n",
      " [10360.54688 ]\n",
      " [10358.04883 ]\n",
      " [10347.71289 ]\n",
      " [10276.79395 ]\n",
      " [10241.27246 ]\n",
      " [10198.24805 ]\n",
      " [10266.41504 ]\n",
      " [10181.6416  ]\n",
      " [10019.7168  ]\n",
      " [10070.39258 ]\n",
      " [ 9729.324219]\n",
      " [ 8620.566406]\n",
      " [ 8486.993164]\n",
      " [ 8118.967773]\n",
      " [ 8251.845703]\n",
      " [ 8245.915039]\n",
      " [ 8104.185547]\n",
      " [ 8293.868164]\n",
      " [ 8343.276367]\n",
      " [ 8393.041992]\n",
      " [ 8259.992188]\n",
      " [ 8205.939453]\n",
      " [ 8151.500488]\n",
      " [ 7988.155762]\n",
      " [ 8245.623047]\n",
      " [ 8228.783203]\n",
      " [ 8595.740234]\n",
      " [ 8586.473633]\n",
      " [ 8321.756836]\n",
      " [ 8336.555664]\n",
      " [ 8321.005859]\n",
      " [ 8374.686523]\n",
      " [ 8205.369141]\n",
      " [ 8047.526855]\n",
      " [ 8103.911133]\n",
      " [ 7973.20752 ]\n",
      " [ 7988.560547]\n",
      " [ 8222.078125]\n",
      " [ 8243.720703]\n",
      " [ 8078.203125]\n",
      " [ 7514.671875]\n",
      " [ 7493.48877 ]\n",
      " [ 8660.700195]\n",
      " [ 9244.972656]\n",
      " [ 9551.714844]\n",
      " [ 9256.148438]\n",
      " [ 9427.6875  ]\n",
      " [ 9205.726563]\n",
      " [ 9199.584961]\n",
      " [ 9261.104492]\n",
      " [ 9324.717773]\n",
      " [ 9235.354492]\n",
      " [ 9412.612305]\n",
      " [ 9342.527344]\n",
      " [ 9360.879883]\n",
      " [ 9267.561523]\n",
      " [ 8804.880859]\n",
      " [ 8813.582031]\n",
      " [ 9055.526367]\n",
      " [ 8757.788086]\n",
      " [ 8815.662109]\n",
      " [ 8808.262695]\n",
      " [ 8708.094727]\n",
      " [ 8491.992188]\n",
      " [ 8550.760742]\n",
      " [ 8577.975586]\n",
      " [ 8309.286133]\n",
      " [ 8206.145508]\n",
      " [ 8027.268066]\n",
      " [ 7642.75    ]\n",
      " [ 7296.577637]\n",
      " [ 7397.796875]\n",
      " [ 7047.916992]\n",
      " [ 7146.133789]\n",
      " [ 7218.371094]\n",
      " [ 7531.663574]\n",
      " [ 7463.105957]\n",
      " [ 7761.243652]\n",
      " [ 7569.629883]\n",
      " [ 7424.29248 ]\n",
      " [ 7321.988281]\n",
      " [ 7320.145508]\n",
      " [ 7252.034668]\n",
      " [ 7448.307617]\n",
      " [ 7546.996582]\n",
      " [ 7556.237793]\n",
      " [ 7564.345215]\n",
      " [ 7400.899414]\n",
      " [ 7278.119629]\n",
      " [ 7217.427246]\n",
      " [ 7243.134277]\n",
      " [ 7269.68457 ]\n",
      " [ 7124.673828]\n",
      " [ 7152.301758]\n",
      " [ 6932.480469]\n",
      " [ 6640.515137]\n",
      " [ 7276.802734]\n",
      " [ 7202.844238]\n",
      " [ 7218.816406]\n",
      " [ 7191.158691]\n",
      " [ 7511.588867]\n",
      " [ 7355.628418]\n",
      " [ 7322.532227]\n",
      " [ 7275.155762]\n",
      " [ 7238.966797]\n",
      " [ 7290.088379]\n",
      " [ 7317.990234]\n",
      " [ 7422.652832]\n",
      " [ 7292.995117]\n",
      " [ 7193.599121]\n",
      " [ 7200.174316]\n",
      " [ 6985.470215]\n",
      " [ 7344.884277]\n",
      " [ 7410.656738]\n",
      " [ 7411.317383]\n",
      " [ 7769.219238]\n",
      " [ 8163.692383]\n",
      " [ 8079.862793]\n",
      " [ 7879.071289]\n",
      " [ 8166.554199]\n",
      " [ 8037.537598]\n",
      " [ 8192.494141]\n",
      " [ 8144.194336]\n",
      " [ 8827.764648]\n",
      " [ 8807.010742]\n",
      " [ 8723.786133]\n",
      " [ 8929.038086]\n",
      " [ 8942.808594]\n",
      " [ 8706.245117]\n",
      " [ 8657.642578]\n",
      " [ 8745.894531]\n",
      " [ 8680.875977]\n",
      " [ 8406.515625]\n",
      " [ 8445.43457 ]\n",
      " [ 8367.847656]\n",
      " [ 8596.830078]\n",
      " [ 8909.819336]\n",
      " [ 9358.589844]\n",
      " [ 9316.629883]\n",
      " [ 9508.993164]\n",
      " [ 9350.529297]\n",
      " [ 9392.875   ]\n",
      " [ 9344.365234]\n",
      " [ 9293.521484]\n",
      " [ 9180.962891]\n",
      " [ 9613.423828]\n",
      " [ 9729.801758]\n",
      " [ 9795.943359]\n",
      " [ 9865.119141]\n",
      " [10116.67383 ]\n",
      " [ 9856.611328]\n",
      " [10208.23633 ]\n",
      " [10326.05469 ]\n",
      " [10214.37988 ]\n",
      " [10312.11621 ]\n",
      " [ 9889.424805]\n",
      " [ 9934.433594]\n",
      " [ 9690.142578]\n",
      " [10141.99609 ]\n",
      " [ 9633.386719]\n",
      " [ 9608.475586]\n",
      " [ 9686.441406]\n",
      " [ 9663.181641]\n",
      " [ 9924.515625]\n",
      " [ 9650.174805]\n",
      " [ 9341.705078]\n",
      " [ 8820.522461]\n",
      " [ 8784.494141]\n",
      " [ 8672.455078]\n",
      " [ 8599.508789]\n",
      " [ 8562.454102]\n",
      " [ 8869.669922]\n",
      " [ 8787.786133]\n",
      " [ 8755.246094]\n",
      " [ 9078.762695]\n",
      " [ 9122.545898]\n",
      " [ 8909.954102]\n",
      " [ 8108.116211]\n",
      " [ 7923.644531]\n",
      " [ 7909.729492]\n",
      " [ 7911.430176]\n",
      " [ 4970.788086]\n",
      " [ 5563.707031]\n",
      " [ 5200.366211]\n",
      " [ 5392.314941]\n",
      " [ 5014.47998 ]\n",
      " [ 5225.629395]\n",
      " [ 5238.438477]\n",
      " [ 6191.192871]\n",
      " [ 6198.77832 ]\n",
      " [ 6185.066406]\n",
      " [ 5830.254883]\n",
      " [ 6416.314941]\n",
      " [ 6734.803711]\n",
      " [ 6681.062988]\n",
      " [ 6716.44043 ]\n",
      " [ 6469.79834 ]\n",
      " [ 6242.193848]\n",
      " [ 5922.042969]\n",
      " [ 6429.841797]\n",
      " [ 6438.644531]\n",
      " [ 6606.776367]\n",
      " [ 6793.624512]\n",
      " [ 6733.387207]\n",
      " [ 6867.527344]\n",
      " [ 6791.129395]\n",
      " [ 7271.78125 ]\n",
      " [ 7176.414551]\n",
      " [ 7334.098633]\n",
      " [ 7302.089355]\n",
      " [ 6865.493164]\n",
      " [ 6859.083008]\n",
      " [ 6971.091797]\n",
      " [ 6845.037598]\n",
      " [ 6842.427734]\n",
      " [ 6642.109863]\n",
      " [ 7116.804199]\n",
      " [ 7096.18457 ]\n",
      " [ 7257.665039]\n",
      " [ 7189.424805]\n",
      " [ 6881.958496]\n",
      " [ 6880.323242]\n",
      " [ 7117.20752 ]\n",
      " [ 7429.724609]]\n"
     ]
    }
   ],
   "source": [
    "x = np.array(df.drop(['Prediction'],1)) #Drop the prediction column and convert the dataframe into array \n",
    "x = x[:len(df)-pred] #Removing last 'n' rows\n",
    "print(x)"
   ]
  },
  {
   "cell_type": "markdown",
   "metadata": {},
   "source": [
    "## Creating Dependent Dataset"
   ]
  },
  {
   "cell_type": "code",
   "execution_count": 14,
   "metadata": {},
   "outputs": [
    {
     "name": "stdout",
     "output_type": "stream",
     "text": [
      "[10701.69141  10855.37109  11011.10254  11790.91699  13016.23145\n",
      " 11182.80664  12407.33203  11959.37109  10817.15527  10583.13477\n",
      " 10801.67773  11961.26953  11215.4375   10978.45996  11208.55078\n",
      " 11450.84668  12285.95801  12573.8125   12156.5127   11358.66211\n",
      " 11815.98633  11392.37891  10256.05859  10895.08984   9477.641602\n",
      "  9693.802734 10666.48242  10530.73242  10767.13965  10599.10547\n",
      " 10343.10645   9900.767578  9811.925781  9911.841797  9870.303711\n",
      "  9477.677734  9552.860352  9519.145508  9607.423828 10085.62793\n",
      " 10399.66895  10518.17481  10821.72656  10970.18457  11805.65332\n",
      " 11478.16895  11941.96875  11966.40723  11862.93652  11354.02441\n",
      " 11523.5791   11382.61621  10895.83008  10051.7041   10311.5459\n",
      " 10374.33887  10231.74414  10345.81055  10916.05371  10763.23242\n",
      " 10138.04981  10131.05566  10407.96484  10159.96094  10138.51758\n",
      " 10370.82031  10185.5       9754.422852  9510.200195  9598.173828\n",
      "  9630.664063  9757.970703 10346.76074  10623.54004  10594.49316\n",
      " 10575.5332   10353.30273  10517.25488  10441.27637  10334.97461\n",
      " 10115.97559  10178.37207  10410.12695  10360.54688  10358.04883\n",
      " 10347.71289  10276.79395  10241.27246  10198.24805  10266.41504\n",
      " 10181.6416   10019.7168   10070.39258   9729.324219  8620.566406\n",
      "  8486.993164  8118.967773  8251.845703  8245.915039  8104.185547\n",
      "  8293.868164  8343.276367  8393.041992  8259.992188  8205.939453\n",
      "  8151.500488  7988.155762  8245.623047  8228.783203  8595.740234\n",
      "  8586.473633  8321.756836  8336.555664  8321.005859  8374.686523\n",
      "  8205.369141  8047.526855  8103.911133  7973.20752   7988.560547\n",
      "  8222.078125  8243.720703  8078.203125  7514.671875  7493.48877\n",
      "  8660.700195  9244.972656  9551.714844  9256.148438  9427.6875\n",
      "  9205.726563  9199.584961  9261.104492  9324.717773  9235.354492\n",
      "  9412.612305  9342.527344  9360.879883  9267.561523  8804.880859\n",
      "  8813.582031  9055.526367  8757.788086  8815.662109  8808.262695\n",
      "  8708.094727  8491.992188  8550.760742  8577.975586  8309.286133\n",
      "  8206.145508  8027.268066  7642.75      7296.577637  7397.796875\n",
      "  7047.916992  7146.133789  7218.371094  7531.663574  7463.105957\n",
      "  7761.243652  7569.629883  7424.29248   7321.988281  7320.145508\n",
      "  7252.034668  7448.307617  7546.996582  7556.237793  7564.345215\n",
      "  7400.899414  7278.119629  7217.427246  7243.134277  7269.68457\n",
      "  7124.673828  7152.301758  6932.480469  6640.515137  7276.802734\n",
      "  7202.844238  7218.816406  7191.158691  7511.588867  7355.628418\n",
      "  7322.532227  7275.155762  7238.966797  7290.088379  7317.990234\n",
      "  7422.652832  7292.995117  7193.599121  7200.174316  6985.470215\n",
      "  7344.884277  7410.656738  7411.317383  7769.219238  8163.692383\n",
      "  8079.862793  7879.071289  8166.554199  8037.537598  8192.494141\n",
      "  8144.194336  8827.764648  8807.010742  8723.786133  8929.038086\n",
      "  8942.808594  8706.245117  8657.642578  8745.894531  8680.875977\n",
      "  8406.515625  8445.43457   8367.847656  8596.830078  8909.819336\n",
      "  9358.589844  9316.629883  9508.993164  9350.529297  9392.875\n",
      "  9344.365234  9293.521484  9180.962891  9613.423828  9729.801758\n",
      "  9795.943359  9865.119141 10116.67383   9856.611328 10208.23633\n",
      " 10326.05469  10214.37988  10312.11621   9889.424805  9934.433594\n",
      "  9690.142578 10141.99609   9633.386719  9608.475586  9686.441406\n",
      "  9663.181641  9924.515625  9650.174805  9341.705078  8820.522461\n",
      "  8784.494141  8672.455078  8599.508789  8562.454102  8869.669922\n",
      "  8787.786133  8755.246094  9078.762695  9122.545898  8909.954102\n",
      "  8108.116211  7923.644531  7909.729492  7911.430176  4970.788086\n",
      "  5563.707031  5200.366211  5392.314941  5014.47998   5225.629395\n",
      "  5238.438477  6191.192871  6198.77832   6185.066406  5830.254883\n",
      "  6416.314941  6734.803711  6681.062988  6716.44043   6469.79834\n",
      "  6242.193848  5922.042969  6429.841797  6438.644531  6606.776367\n",
      "  6793.624512  6733.387207  6867.527344  6791.129395  7271.78125\n",
      "  7176.414551  7334.098633  7302.089355  6865.493164  6859.083008\n",
      "  6971.091797  6845.037598  6842.427734  6642.109863  7116.804199\n",
      "  7096.18457   7257.665039  7189.424805  6881.958496  6880.323242\n",
      "  7117.20752   7429.724609  7550.900879  7569.936035  7679.867188\n",
      "  7795.601074  7807.058594  8801.038086  8658.553711  8864.766602\n",
      "  8988.59668   8897.46875   8912.654297  9003.070313  9268.761719\n",
      "  9951.518555  9842.666016  9593.896484  8756.430664  8601.795898\n",
      "  8804.477539  9269.987305  9733.72168   9328.197266  9377.013672\n",
      "  9670.739258  9726.575195  9729.038086  9522.981445  9081.761719\n",
      "  9182.577148  9180.045898]\n"
     ]
    }
   ],
   "source": [
    "y = np.array(df['Prediction']) #Drop the prediction column and convert the dataframe into array \n",
    "y = y[:-pred] #Removing last 'n' rows\n",
    "print(y)"
   ]
  },
  {
   "cell_type": "markdown",
   "metadata": {},
   "source": [
    "## Machine Learning work"
   ]
  },
  {
   "cell_type": "markdown",
   "metadata": {},
   "source": [
    "Spliting the data into trainig and testing data\n",
    "We split the trainig data into 80% and testing data into 20%"
   ]
  },
  {
   "cell_type": "code",
   "execution_count": 15,
   "metadata": {},
   "outputs": [],
   "source": [
    "from sklearn.model_selection import train_test_split\n",
    "xtrain, xtest, ytrain, ytest = train_test_split(x,y, test_size = 0.2)"
   ]
  },
  {
   "cell_type": "markdown",
   "metadata": {},
   "source": [
    "Setting the pred array equal to last 30 rows from the original dataset"
   ]
  },
  {
   "cell_type": "code",
   "execution_count": 16,
   "metadata": {},
   "outputs": [
    {
     "name": "stdout",
     "output_type": "stream",
     "text": [
      "[[7550.900879]\n",
      " [7569.936035]\n",
      " [7679.867188]\n",
      " [7795.601074]\n",
      " [7807.058594]\n",
      " [8801.038086]\n",
      " [8658.553711]\n",
      " [8864.766602]\n",
      " [8988.59668 ]\n",
      " [8897.46875 ]\n",
      " [8912.654297]\n",
      " [9003.070313]\n",
      " [9268.761719]\n",
      " [9951.518555]\n",
      " [9842.666016]\n",
      " [9593.896484]\n",
      " [8756.430664]\n",
      " [8601.795898]\n",
      " [8804.477539]\n",
      " [9269.987305]\n",
      " [9733.72168 ]\n",
      " [9328.197266]\n",
      " [9377.013672]\n",
      " [9670.739258]\n",
      " [9726.575195]\n",
      " [9729.038086]\n",
      " [9522.981445]\n",
      " [9081.761719]\n",
      " [9182.577148]\n",
      " [9180.045898]]\n"
     ]
    }
   ],
   "source": [
    "pred_arr = np.array(df.drop(['Prediction'],1))[-pred:]\n",
    "print(pred_arr)"
   ]
  },
  {
   "cell_type": "markdown",
   "metadata": {},
   "source": [
    "## Model Creation for Prediction"
   ]
  },
  {
   "cell_type": "code",
   "execution_count": 30,
   "metadata": {},
   "outputs": [],
   "source": [
    "from sklearn.svm import SVR\n",
    "s = SVR(kernel = 'rbf', C = 1e3, gamma = 0.0001)\n",
    "s.fit(xtrain,ytrain)\n",
    "#Creating and training the Support Vector Machine using radial basis function\n",
    "s_c = s.score(xtest,ytest)*-100"
   ]
  },
  {
   "cell_type": "markdown",
   "metadata": {},
   "source": [
    "## Testing the model"
   ]
  },
  {
   "cell_type": "code",
   "execution_count": 31,
   "metadata": {},
   "outputs": [
    {
     "name": "stdout",
     "output_type": "stream",
     "text": [
      "Accuracy:  0.9188199539394981\n"
     ]
    }
   ],
   "source": [
    "print(\"Accuracy: \",s_c)"
   ]
  },
  {
   "cell_type": "markdown",
   "metadata": {},
   "source": [
    "## Printing the predicted value"
   ]
  },
  {
   "cell_type": "code",
   "execution_count": 19,
   "metadata": {},
   "outputs": [
    {
     "name": "stdout",
     "output_type": "stream",
     "text": [
      "[ 8676.69579519  8977.74436748  8445.47686796  8806.3427402\n",
      " 10170.72937506  9842.14288022  8924.17376983  8865.90122503\n",
      "  8183.04654827  8603.32096502  9698.5939369   9188.09250697\n",
      "  9171.40254555  8356.20173153  8420.94782781  9257.70999884\n",
      "  6989.66158232  9024.24159525  9538.41258373  7496.2474097\n",
      "  9770.23348089  8074.36450321  9803.38032716  9560.20407217\n",
      "  9016.24730388  8999.35680848  8817.11411194  8352.34065912\n",
      "  7574.86535515  9585.67505995  8368.53366332  8978.87591681\n",
      "  8298.71645071 10136.42678665  8568.95896502  9213.65659651\n",
      "  8613.78757198  6614.57715831 10073.44888063  8227.55545449\n",
      "  9861.93265196  9526.63903311  9378.3586844   9175.08858378\n",
      "  7801.68227377  7510.82027688  8674.18649126  7738.70262346\n",
      "  8634.83118238  8369.96705393  8793.20511372  9041.95738037\n",
      "  7391.53606304  9428.05527115  8922.47297881  7140.50730335\n",
      "  9140.13783808  8245.76030061  9698.15222092  9634.71381137\n",
      "  8353.16624517  9461.07862447 10345.77151118  9358.28908939\n",
      "  9643.39074658  8146.89831037  9427.46793543  9061.84358238]\n"
     ]
    }
   ],
   "source": [
    "s_p = s.predict(xtest)\n",
    "print(s_p)"
   ]
  },
  {
   "cell_type": "code",
   "execution_count": 20,
   "metadata": {},
   "outputs": [
    {
     "name": "stdout",
     "output_type": "stream",
     "text": [
      "[ 9182.577148  9269.987305  8486.993164  9870.303711  9900.767578\n",
      " 10085.62793   9205.726563  9199.584961  7988.560547  7569.936035\n",
      " 11790.91699  10407.96484   5225.629395  9726.575195  9268.761719\n",
      "  8243.720703 10666.48242  11862.93652  10978.45996   7514.671875\n",
      " 10231.74414   8672.455078  8205.939453  7218.816406  9754.422852\n",
      " 10701.69141  11959.37109   5563.707031  6469.79834  11215.4375\n",
      "  8367.847656  7218.371094  8562.454102 10410.12695   9180.962891\n",
      "  7923.644531 10801.67773  10374.33887  10594.49316   6606.776367\n",
      "  8151.500488 11011.10254   8027.268066  7191.158691  6185.066406\n",
      "  8909.954102  9377.013672  6242.193848  9350.529297  8595.740234\n",
      "  7355.628418 10767.13965   7296.577637 10141.99609   8807.010742\n",
      "  8293.868164  8680.875977  8321.756836  5922.042969  7202.844238\n",
      " 10817.15527   9244.972656  9607.423828  9256.148438  9729.801758\n",
      "  7321.988281  8550.760742  8108.116211]\n"
     ]
    }
   ],
   "source": [
    "print(ytest)"
   ]
  },
  {
   "cell_type": "markdown",
   "metadata": {},
   "source": [
    "## Prinitng the actual price of bitcoin for last 30 days"
   ]
  },
  {
   "cell_type": "code",
   "execution_count": 21,
   "metadata": {},
   "outputs": [
    {
     "name": "stdout",
     "output_type": "stream",
     "text": [
      "           Price  Prediction\n",
      "337  7550.900879         NaN\n",
      "338  7569.936035         NaN\n",
      "339  7679.867188         NaN\n",
      "340  7795.601074         NaN\n",
      "341  7807.058594         NaN\n",
      "342  8801.038086         NaN\n",
      "343  8658.553711         NaN\n",
      "344  8864.766602         NaN\n",
      "345  8988.596680         NaN\n",
      "346  8897.468750         NaN\n",
      "347  8912.654297         NaN\n",
      "348  9003.070313         NaN\n",
      "349  9268.761719         NaN\n",
      "350  9951.518555         NaN\n",
      "351  9842.666016         NaN\n",
      "352  9593.896484         NaN\n",
      "353  8756.430664         NaN\n",
      "354  8601.795898         NaN\n",
      "355  8804.477539         NaN\n",
      "356  9269.987305         NaN\n",
      "357  9733.721680         NaN\n",
      "358  9328.197266         NaN\n",
      "359  9377.013672         NaN\n",
      "360  9670.739258         NaN\n",
      "361  9726.575195         NaN\n",
      "362  9729.038086         NaN\n",
      "363  9522.981445         NaN\n",
      "364  9081.761719         NaN\n",
      "365  9182.577148         NaN\n",
      "366  9180.045898         NaN\n"
     ]
    }
   ],
   "source": [
    "print(df.tail(pred))"
   ]
  },
  {
   "cell_type": "markdown",
   "metadata": {},
   "source": [
    "## Print the model prediction for next 30 Days"
   ]
  },
  {
   "cell_type": "code",
   "execution_count": 22,
   "metadata": {},
   "outputs": [
    {
     "name": "stdout",
     "output_type": "stream",
     "text": [
      "[7697.20660261 7976.01547805 9507.95792476 9622.28876318 9605.36424249\n",
      " 7580.91289044 9640.20206263 8135.36988099 9080.83987424 8772.86881163\n",
      " 9045.08047321 8762.20483151 7603.4323443  9182.22851184 9240.98852175\n",
      " 8222.64478803 8281.67682604 8779.68829641 7565.81310992 7612.3704106\n",
      " 7631.03905235 8174.81709666 8335.80078917 6461.20697544 7412.85968674\n",
      " 7487.52631735 9030.82945315 6989.66908532 7566.50498381 7560.34632938]\n"
     ]
    }
   ],
   "source": [
    "svm_p = s.predict(pred_arr)\n",
    "print(svm_p)"
   ]
  },
  {
   "cell_type": "markdown",
   "metadata": {},
   "source": [
    "## Adding the predicted price to the dataframe"
   ]
  },
  {
   "cell_type": "code",
   "execution_count": 23,
   "metadata": {},
   "outputs": [
    {
     "data": {
      "text/html": [
       "<div>\n",
       "<style scoped>\n",
       "    .dataframe tbody tr th:only-of-type {\n",
       "        vertical-align: middle;\n",
       "    }\n",
       "\n",
       "    .dataframe tbody tr th {\n",
       "        vertical-align: top;\n",
       "    }\n",
       "\n",
       "    .dataframe thead th {\n",
       "        text-align: right;\n",
       "    }\n",
       "</style>\n",
       "<table border=\"1\" class=\"dataframe\">\n",
       "  <thead>\n",
       "    <tr style=\"text-align: right;\">\n",
       "      <th></th>\n",
       "      <th>Predicted Price</th>\n",
       "    </tr>\n",
       "  </thead>\n",
       "  <tbody>\n",
       "    <tr>\n",
       "      <th>0</th>\n",
       "      <td>7697.206603</td>\n",
       "    </tr>\n",
       "    <tr>\n",
       "      <th>1</th>\n",
       "      <td>7976.015478</td>\n",
       "    </tr>\n",
       "    <tr>\n",
       "      <th>2</th>\n",
       "      <td>9507.957925</td>\n",
       "    </tr>\n",
       "    <tr>\n",
       "      <th>3</th>\n",
       "      <td>9622.288763</td>\n",
       "    </tr>\n",
       "    <tr>\n",
       "      <th>4</th>\n",
       "      <td>9605.364242</td>\n",
       "    </tr>\n",
       "    <tr>\n",
       "      <th>5</th>\n",
       "      <td>7580.912890</td>\n",
       "    </tr>\n",
       "    <tr>\n",
       "      <th>6</th>\n",
       "      <td>9640.202063</td>\n",
       "    </tr>\n",
       "    <tr>\n",
       "      <th>7</th>\n",
       "      <td>8135.369881</td>\n",
       "    </tr>\n",
       "    <tr>\n",
       "      <th>8</th>\n",
       "      <td>9080.839874</td>\n",
       "    </tr>\n",
       "    <tr>\n",
       "      <th>9</th>\n",
       "      <td>8772.868812</td>\n",
       "    </tr>\n",
       "    <tr>\n",
       "      <th>10</th>\n",
       "      <td>9045.080473</td>\n",
       "    </tr>\n",
       "    <tr>\n",
       "      <th>11</th>\n",
       "      <td>8762.204832</td>\n",
       "    </tr>\n",
       "    <tr>\n",
       "      <th>12</th>\n",
       "      <td>7603.432344</td>\n",
       "    </tr>\n",
       "    <tr>\n",
       "      <th>13</th>\n",
       "      <td>9182.228512</td>\n",
       "    </tr>\n",
       "    <tr>\n",
       "      <th>14</th>\n",
       "      <td>9240.988522</td>\n",
       "    </tr>\n",
       "    <tr>\n",
       "      <th>15</th>\n",
       "      <td>8222.644788</td>\n",
       "    </tr>\n",
       "    <tr>\n",
       "      <th>16</th>\n",
       "      <td>8281.676826</td>\n",
       "    </tr>\n",
       "    <tr>\n",
       "      <th>17</th>\n",
       "      <td>8779.688296</td>\n",
       "    </tr>\n",
       "    <tr>\n",
       "      <th>18</th>\n",
       "      <td>7565.813110</td>\n",
       "    </tr>\n",
       "    <tr>\n",
       "      <th>19</th>\n",
       "      <td>7612.370411</td>\n",
       "    </tr>\n",
       "    <tr>\n",
       "      <th>20</th>\n",
       "      <td>7631.039052</td>\n",
       "    </tr>\n",
       "    <tr>\n",
       "      <th>21</th>\n",
       "      <td>8174.817097</td>\n",
       "    </tr>\n",
       "    <tr>\n",
       "      <th>22</th>\n",
       "      <td>8335.800789</td>\n",
       "    </tr>\n",
       "    <tr>\n",
       "      <th>23</th>\n",
       "      <td>6461.206975</td>\n",
       "    </tr>\n",
       "    <tr>\n",
       "      <th>24</th>\n",
       "      <td>7412.859687</td>\n",
       "    </tr>\n",
       "    <tr>\n",
       "      <th>25</th>\n",
       "      <td>7487.526317</td>\n",
       "    </tr>\n",
       "    <tr>\n",
       "      <th>26</th>\n",
       "      <td>9030.829453</td>\n",
       "    </tr>\n",
       "    <tr>\n",
       "      <th>27</th>\n",
       "      <td>6989.669085</td>\n",
       "    </tr>\n",
       "    <tr>\n",
       "      <th>28</th>\n",
       "      <td>7566.504984</td>\n",
       "    </tr>\n",
       "    <tr>\n",
       "      <th>29</th>\n",
       "      <td>7560.346329</td>\n",
       "    </tr>\n",
       "  </tbody>\n",
       "</table>\n",
       "</div>"
      ],
      "text/plain": [
       "    Predicted Price\n",
       "0       7697.206603\n",
       "1       7976.015478\n",
       "2       9507.957925\n",
       "3       9622.288763\n",
       "4       9605.364242\n",
       "5       7580.912890\n",
       "6       9640.202063\n",
       "7       8135.369881\n",
       "8       9080.839874\n",
       "9       8772.868812\n",
       "10      9045.080473\n",
       "11      8762.204832\n",
       "12      7603.432344\n",
       "13      9182.228512\n",
       "14      9240.988522\n",
       "15      8222.644788\n",
       "16      8281.676826\n",
       "17      8779.688296\n",
       "18      7565.813110\n",
       "19      7612.370411\n",
       "20      7631.039052\n",
       "21      8174.817097\n",
       "22      8335.800789\n",
       "23      6461.206975\n",
       "24      7412.859687\n",
       "25      7487.526317\n",
       "26      9030.829453\n",
       "27      6989.669085\n",
       "28      7566.504984\n",
       "29      7560.346329"
      ]
     },
     "execution_count": 23,
     "metadata": {},
     "output_type": "execute_result"
    }
   ],
   "source": [
    "df1 = pd.DataFrame(svm_p, columns =['Predicted Price']) #converting the array into dataframe\n",
    "df1 "
   ]
  },
  {
   "cell_type": "code",
   "execution_count": 24,
   "metadata": {},
   "outputs": [
    {
     "data": {
      "text/html": [
       "<div>\n",
       "<style scoped>\n",
       "    .dataframe tbody tr th:only-of-type {\n",
       "        vertical-align: middle;\n",
       "    }\n",
       "\n",
       "    .dataframe tbody tr th {\n",
       "        vertical-align: top;\n",
       "    }\n",
       "\n",
       "    .dataframe thead th {\n",
       "        text-align: right;\n",
       "    }\n",
       "</style>\n",
       "<table border=\"1\" class=\"dataframe\">\n",
       "  <thead>\n",
       "    <tr style=\"text-align: right;\">\n",
       "      <th></th>\n",
       "      <th>Price</th>\n",
       "      <th>Prediction</th>\n",
       "    </tr>\n",
       "  </thead>\n",
       "  <tbody>\n",
       "    <tr>\n",
       "      <th>0</th>\n",
       "      <td>7881.846680</td>\n",
       "      <td>7697.206603</td>\n",
       "    </tr>\n",
       "    <tr>\n",
       "      <th>1</th>\n",
       "      <td>7987.371582</td>\n",
       "      <td>7976.015478</td>\n",
       "    </tr>\n",
       "    <tr>\n",
       "      <th>2</th>\n",
       "      <td>8052.543945</td>\n",
       "      <td>9507.957925</td>\n",
       "    </tr>\n",
       "    <tr>\n",
       "      <th>3</th>\n",
       "      <td>8673.215820</td>\n",
       "      <td>9622.288763</td>\n",
       "    </tr>\n",
       "    <tr>\n",
       "      <th>4</th>\n",
       "      <td>8805.778320</td>\n",
       "      <td>9605.364242</td>\n",
       "    </tr>\n",
       "  </tbody>\n",
       "</table>\n",
       "</div>"
      ],
      "text/plain": [
       "         Price   Prediction\n",
       "0  7881.846680  7697.206603\n",
       "1  7987.371582  7976.015478\n",
       "2  8052.543945  9507.957925\n",
       "3  8673.215820  9622.288763\n",
       "4  8805.778320  9605.364242"
      ]
     },
     "execution_count": 24,
     "metadata": {},
     "output_type": "execute_result"
    }
   ],
   "source": [
    "df['Prediction'] = df1 #adding the predicted price to the original dataframe\n",
    "df.head()"
   ]
  },
  {
   "cell_type": "code",
   "execution_count": null,
   "metadata": {},
   "outputs": [],
   "source": []
  },
  {
   "cell_type": "code",
   "execution_count": null,
   "metadata": {},
   "outputs": [],
   "source": []
  }
 ],
 "metadata": {
  "kernelspec": {
   "display_name": "Python 3",
   "language": "python",
   "name": "python3"
  },
  "language_info": {
   "codemirror_mode": {
    "name": "ipython",
    "version": 3
   },
   "file_extension": ".py",
   "mimetype": "text/x-python",
   "name": "python",
   "nbconvert_exporter": "python",
   "pygments_lexer": "ipython3",
   "version": "3.8.5"
  }
 },
 "nbformat": 4,
 "nbformat_minor": 4
}
