{
 "cells": [
  {
   "cell_type": "code",
   "execution_count": 19,
   "metadata": {},
   "outputs": [],
   "source": [
    "import pandas as pd\n",
    "import numpy as np\n",
    "import datetime\n",
    "from sklearn.linear_model import LinearRegression\n",
    "from sklearn.model_selection import train_test_split\n",
    "import matplotlib.pyplot as plt"
   ]
  },
  {
   "cell_type": "code",
   "execution_count": 20,
   "metadata": {},
   "outputs": [],
   "source": [
    "df = pd.read_csv(\"datasetbitcoin.csv\")"
   ]
  },
  {
   "cell_type": "code",
   "execution_count": 21,
   "metadata": {},
   "outputs": [
    {
     "data": {
      "text/html": [
       "<div>\n",
       "<style scoped>\n",
       "    .dataframe tbody tr th:only-of-type {\n",
       "        vertical-align: middle;\n",
       "    }\n",
       "\n",
       "    .dataframe tbody tr th {\n",
       "        vertical-align: top;\n",
       "    }\n",
       "\n",
       "    .dataframe thead th {\n",
       "        text-align: right;\n",
       "    }\n",
       "</style>\n",
       "<table border=\"1\" class=\"dataframe\">\n",
       "  <thead>\n",
       "    <tr style=\"text-align: right;\">\n",
       "      <th></th>\n",
       "      <th>Date</th>\n",
       "      <th>Price</th>\n",
       "    </tr>\n",
       "  </thead>\n",
       "  <tbody>\n",
       "    <tr>\n",
       "      <th>0</th>\n",
       "      <td>5/23/2019</td>\n",
       "      <td>7881.846680</td>\n",
       "    </tr>\n",
       "    <tr>\n",
       "      <th>1</th>\n",
       "      <td>5/24/2019</td>\n",
       "      <td>7987.371582</td>\n",
       "    </tr>\n",
       "    <tr>\n",
       "      <th>2</th>\n",
       "      <td>5/25/2019</td>\n",
       "      <td>8052.543945</td>\n",
       "    </tr>\n",
       "    <tr>\n",
       "      <th>3</th>\n",
       "      <td>5/26/2019</td>\n",
       "      <td>8673.215820</td>\n",
       "    </tr>\n",
       "    <tr>\n",
       "      <th>4</th>\n",
       "      <td>5/27/2019</td>\n",
       "      <td>8805.778320</td>\n",
       "    </tr>\n",
       "  </tbody>\n",
       "</table>\n",
       "</div>"
      ],
      "text/plain": [
       "        Date        Price\n",
       "0  5/23/2019  7881.846680\n",
       "1  5/24/2019  7987.371582\n",
       "2  5/25/2019  8052.543945\n",
       "3  5/26/2019  8673.215820\n",
       "4  5/27/2019  8805.778320"
      ]
     },
     "execution_count": 21,
     "metadata": {},
     "output_type": "execute_result"
    }
   ],
   "source": [
    "df.head() #check the data"
   ]
  },
  {
   "cell_type": "code",
   "execution_count": 22,
   "metadata": {},
   "outputs": [
    {
     "name": "stdout",
     "output_type": "stream",
     "text": [
      "<class 'pandas.core.frame.DataFrame'>\n",
      "Index: 367 entries, 5/23/2020 to 5/23/2019\n",
      "Data columns (total 1 columns):\n",
      " #   Column  Non-Null Count  Dtype  \n",
      "---  ------  --------------  -----  \n",
      " 0   Price   367 non-null    float64\n",
      "dtypes: float64(1)\n",
      "memory usage: 5.7+ KB\n",
      "                 Price\n",
      "Date                  \n",
      "5/27/2019  8805.778320\n",
      "5/26/2019  8673.215820\n",
      "5/25/2019  8052.543945\n",
      "5/24/2019  7987.371582\n",
      "5/23/2019  7881.846680\n"
     ]
    }
   ],
   "source": [
    "df=df.iloc[::-1]\n",
    "df.index = df['Date']\n",
    "del df['Date']\n",
    "df.info()\n",
    "df = df[['Price']]\n",
    "print(df.tail())"
   ]
  },
  {
   "cell_type": "code",
   "execution_count": 23,
   "metadata": {},
   "outputs": [
    {
     "data": {
      "text/html": [
       "<div>\n",
       "<style scoped>\n",
       "    .dataframe tbody tr th:only-of-type {\n",
       "        vertical-align: middle;\n",
       "    }\n",
       "\n",
       "    .dataframe tbody tr th {\n",
       "        vertical-align: top;\n",
       "    }\n",
       "\n",
       "    .dataframe thead th {\n",
       "        text-align: right;\n",
       "    }\n",
       "</style>\n",
       "<table border=\"1\" class=\"dataframe\">\n",
       "  <thead>\n",
       "    <tr style=\"text-align: right;\">\n",
       "      <th></th>\n",
       "      <th>Price</th>\n",
       "    </tr>\n",
       "    <tr>\n",
       "      <th>Date</th>\n",
       "      <th></th>\n",
       "    </tr>\n",
       "  </thead>\n",
       "  <tbody>\n",
       "    <tr>\n",
       "      <th>5/23/2020</th>\n",
       "      <td>9180.045898</td>\n",
       "    </tr>\n",
       "    <tr>\n",
       "      <th>5/22/2020</th>\n",
       "      <td>9182.577148</td>\n",
       "    </tr>\n",
       "    <tr>\n",
       "      <th>5/21/2020</th>\n",
       "      <td>9081.761719</td>\n",
       "    </tr>\n",
       "    <tr>\n",
       "      <th>5/20/2020</th>\n",
       "      <td>9522.981445</td>\n",
       "    </tr>\n",
       "    <tr>\n",
       "      <th>5/19/2020</th>\n",
       "      <td>9729.038086</td>\n",
       "    </tr>\n",
       "  </tbody>\n",
       "</table>\n",
       "</div>"
      ],
      "text/plain": [
       "                 Price\n",
       "Date                  \n",
       "5/23/2020  9180.045898\n",
       "5/22/2020  9182.577148\n",
       "5/21/2020  9081.761719\n",
       "5/20/2020  9522.981445\n",
       "5/19/2020  9729.038086"
      ]
     },
     "execution_count": 23,
     "metadata": {},
     "output_type": "execute_result"
    }
   ],
   "source": [
    "df.head()"
   ]
  },
  {
   "cell_type": "code",
   "execution_count": 24,
   "metadata": {},
   "outputs": [],
   "source": [
    "pred = 30 #n = 30\n",
    "df['Prediction'] = df[['Price']].shift(-pred) #adding the pred value to the dataframe\n",
    "x = np.array(df.drop(['Prediction'],1)) #Drop the prediction column and convert the dataframe into array \n",
    "x = x[:len(df)-pred] #Removing last 'n' rows\n",
    "y = np.array(df['Prediction']) #Drop the prediction column and convert the dataframe into array \n",
    "y = y[:-pred] #Removing last 'n' rows"
   ]
  },
  {
   "cell_type": "code",
   "execution_count": 25,
   "metadata": {},
   "outputs": [],
   "source": [
    "from sklearn.model_selection import train_test_split"
   ]
  },
  {
   "cell_type": "code",
   "execution_count": 8,
   "metadata": {},
   "outputs": [
    {
     "data": {
      "text/plain": [
       "LinearRegression()"
      ]
     },
     "execution_count": 8,
     "metadata": {},
     "output_type": "execute_result"
    }
   ],
   "source": [
    "xtrain, xtest, ytrain, ytest = train_test_split(x,y, test_size = 0.2)\n",
    "clf = LinearRegression()\n",
    "clf.fit(xtrain,ytrain)"
   ]
  },
  {
   "cell_type": "code",
   "execution_count": 9,
   "metadata": {},
   "outputs": [
    {
     "name": "stdout",
     "output_type": "stream",
     "text": [
      "Accuracy:  0.03833199358468553\n"
     ]
    }
   ],
   "source": [
    "l_r = clf.score(xtest,ytest)\n",
    "print(\"Accuracy: \",l_r)"
   ]
  },
  {
   "cell_type": "code",
   "execution_count": 10,
   "metadata": {},
   "outputs": [],
   "source": [
    "pred_arr = np.array(df.drop(['Prediction'],1))[-pred:]"
   ]
  },
  {
   "cell_type": "code",
   "execution_count": 11,
   "metadata": {},
   "outputs": [
    {
     "data": {
      "text/plain": [
       "LinearRegression()"
      ]
     },
     "execution_count": 11,
     "metadata": {},
     "output_type": "execute_result"
    }
   ],
   "source": [
    "xtrain, xtest, ytrain, ytest = train_test_split(x,y, test_size = 0.2)\n",
    "clf = LinearRegression()\n",
    "clf.fit(xtrain,ytrain)"
   ]
  },
  {
   "cell_type": "code",
   "execution_count": 12,
   "metadata": {},
   "outputs": [
    {
     "name": "stdout",
     "output_type": "stream",
     "text": [
      "Accuracy:  0.01490346020488409\n"
     ]
    }
   ],
   "source": [
    "l_r = clf.score(xtest,ytest)\n",
    "print(\"Accuracy: \",l_r)"
   ]
  },
  {
   "cell_type": "code",
   "execution_count": 13,
   "metadata": {},
   "outputs": [
    {
     "name": "stdout",
     "output_type": "stream",
     "text": [
      "[8535.11922783 8386.75152367 8232.47989319 8758.61198791 8636.63194715\n",
      " 8886.61624082 9051.11643773 8632.46749974 8632.55212451 8780.16584706\n",
      " 9023.22250887 8363.62205758 8955.02621742 9221.13904288 8051.83602435\n",
      " 9194.68033852 8039.2533875  7683.35871366 8821.38464861 8752.14257525\n",
      " 8401.39048703 8539.15206793 9493.17560378 8226.5514853  8952.69011924\n",
      " 9208.08276036 8703.86991211 8371.41645724 8724.29110049 9146.63324804\n",
      " 8285.34975076 8307.59532597 9534.68479046 8364.93841261 9039.53302514\n",
      " 8327.57117268 8526.23390378 8795.16821597 8789.59656258 9244.68823588\n",
      " 9099.3622135  8557.96595073 9294.73518922 8903.54658448 8394.4304485\n",
      " 9309.92237617 8575.05549621 8741.13313954 8960.36578941 8502.04266502\n",
      " 8675.19228361 9165.7355336  9422.09669036 9240.35765302 9249.40939596\n",
      " 8605.18901127 8811.90695085 8117.8000884  9119.04215636 8910.72356254\n",
      " 8794.55093581 8237.25185619 9024.46216363 8349.62216731 9388.82158369\n",
      " 9069.74607053 8364.78076682 8359.01368368]\n"
     ]
    }
   ],
   "source": [
    "lr_p = clf.predict(xtest)\n",
    "print(lr_p)"
   ]
  },
  {
   "cell_type": "code",
   "execution_count": 14,
   "metadata": {},
   "outputs": [
    {
     "name": "stdout",
     "output_type": "stream",
     "text": [
      "[10116.67383   7493.48877   7911.430176  7355.628418 10623.54004\n",
      "  9613.423828  8942.808594 10517.25488   9510.200195  9293.521484\n",
      "  7302.089355  7463.105957  7422.652832 10231.74414   8784.494141\n",
      "  9552.860352  9633.386719 10208.23633   6733.387207  6438.644531\n",
      "  9342.527344  9865.119141  7707.770996  5200.366211  7200.174316\n",
      " 10666.48242   8047.526855  7252.034668  9350.529297 10131.05566\n",
      "  8660.700195  8708.094727  7927.714355  7047.916992  8367.847656\n",
      "  7424.29248   7278.119629  6932.480469  9344.365234 10311.5459\n",
      "  8037.537598 10266.41504   9273.521484  7411.317383  9261.104492\n",
      "  8564.016602 10276.79395  10138.51758   7116.804199  6242.193848\n",
      " 10346.76074  10583.13477  10978.45996  10701.69141   9693.802734\n",
      " 10575.5332    6606.776367  8820.522461  8445.43457   8293.868164\n",
      "  8595.740234  6185.066406 10085.62793   8808.262695  7987.371582\n",
      "  9519.145508  9324.717773  7909.729492]\n"
     ]
    }
   ],
   "source": [
    "print(ytest)"
   ]
  },
  {
   "cell_type": "code",
   "execution_count": null,
   "metadata": {},
   "outputs": [],
   "source": []
  },
  {
   "cell_type": "code",
   "execution_count": 15,
   "metadata": {},
   "outputs": [
    {
     "name": "stdout",
     "output_type": "stream",
     "text": [
      "                  Price  Prediction\n",
      "Date                               \n",
      "6/21/2019  10144.556640         NaN\n",
      "6/20/2019   9527.160156         NaN\n",
      "6/19/2019   9273.521484         NaN\n",
      "6/18/2019   9081.762695         NaN\n",
      "6/17/2019   9320.352539         NaN\n",
      "6/16/2019   8994.488281         NaN\n",
      "6/15/2019   8838.375000         NaN\n",
      "6/14/2019   8693.833008         NaN\n",
      "6/13/2019   8230.923828         NaN\n",
      "6/12/2019   8145.857422         NaN\n",
      "6/11/2019   7927.714355         NaN\n",
      "6/10/2019   8000.329590         NaN\n",
      "6/9/2019    7688.077148         NaN\n",
      "6/8/2019    7954.127930         NaN\n",
      "6/7/2019    8043.951172         NaN\n",
      "6/6/2019    7822.023438         NaN\n",
      "6/5/2019    7824.231445         NaN\n",
      "6/4/2019    7707.770996         NaN\n",
      "6/3/2019    8208.995117         NaN\n",
      "6/2/2019    8742.958008         NaN\n",
      "6/1/2019    8564.016602         NaN\n",
      "5/31/2019   8574.501953         NaN\n",
      "5/30/2019   8319.472656         NaN\n",
      "5/29/2019   8659.487305         NaN\n",
      "5/28/2019   8719.961914         NaN\n",
      "5/27/2019   8805.778320         NaN\n",
      "5/26/2019   8673.215820         NaN\n",
      "5/25/2019   8052.543945         NaN\n",
      "5/24/2019   7987.371582         NaN\n",
      "5/23/2019   7881.846680         NaN\n"
     ]
    }
   ],
   "source": [
    "print(df.tail(pred))"
   ]
  },
  {
   "cell_type": "code",
   "execution_count": null,
   "metadata": {},
   "outputs": [],
   "source": []
  },
  {
   "cell_type": "code",
   "execution_count": 16,
   "metadata": {},
   "outputs": [
    {
     "name": "stdout",
     "output_type": "stream",
     "text": [
      "[9182.81418247 9003.8810654  8930.37180617 8874.79650127 8943.94432701\n",
      " 8849.50273407 8804.25816804 8762.36717928 8628.20738951 8603.55354457\n",
      " 8540.3315795  8561.37684082 8470.88020826 8547.98673049 8574.01919601\n",
      " 8509.70036323 8510.3402852  8476.58785594 8621.85203649 8776.60452854\n",
      " 8724.74394239 8727.78279439 8653.87050587 8752.41314835 8769.93982784\n",
      " 8794.81103689 8756.39193029 8576.50954329 8557.62136631 8527.03826431]\n"
     ]
    }
   ],
   "source": [
    "lr_p = clf.predict(pred_arr)\n",
    "print(lr_p)"
   ]
  },
  {
   "cell_type": "code",
   "execution_count": null,
   "metadata": {},
   "outputs": [],
   "source": []
  },
  {
   "cell_type": "code",
   "execution_count": 17,
   "metadata": {},
   "outputs": [
    {
     "data": {
      "text/html": [
       "<div>\n",
       "<style scoped>\n",
       "    .dataframe tbody tr th:only-of-type {\n",
       "        vertical-align: middle;\n",
       "    }\n",
       "\n",
       "    .dataframe tbody tr th {\n",
       "        vertical-align: top;\n",
       "    }\n",
       "\n",
       "    .dataframe thead th {\n",
       "        text-align: right;\n",
       "    }\n",
       "</style>\n",
       "<table border=\"1\" class=\"dataframe\">\n",
       "  <thead>\n",
       "    <tr style=\"text-align: right;\">\n",
       "      <th></th>\n",
       "      <th>Predicted Price</th>\n",
       "    </tr>\n",
       "  </thead>\n",
       "  <tbody>\n",
       "    <tr>\n",
       "      <th>0</th>\n",
       "      <td>9182.814182</td>\n",
       "    </tr>\n",
       "    <tr>\n",
       "      <th>1</th>\n",
       "      <td>9003.881065</td>\n",
       "    </tr>\n",
       "    <tr>\n",
       "      <th>2</th>\n",
       "      <td>8930.371806</td>\n",
       "    </tr>\n",
       "    <tr>\n",
       "      <th>3</th>\n",
       "      <td>8874.796501</td>\n",
       "    </tr>\n",
       "    <tr>\n",
       "      <th>4</th>\n",
       "      <td>8943.944327</td>\n",
       "    </tr>\n",
       "    <tr>\n",
       "      <th>5</th>\n",
       "      <td>8849.502734</td>\n",
       "    </tr>\n",
       "    <tr>\n",
       "      <th>6</th>\n",
       "      <td>8804.258168</td>\n",
       "    </tr>\n",
       "    <tr>\n",
       "      <th>7</th>\n",
       "      <td>8762.367179</td>\n",
       "    </tr>\n",
       "    <tr>\n",
       "      <th>8</th>\n",
       "      <td>8628.207390</td>\n",
       "    </tr>\n",
       "    <tr>\n",
       "      <th>9</th>\n",
       "      <td>8603.553545</td>\n",
       "    </tr>\n",
       "    <tr>\n",
       "      <th>10</th>\n",
       "      <td>8540.331580</td>\n",
       "    </tr>\n",
       "    <tr>\n",
       "      <th>11</th>\n",
       "      <td>8561.376841</td>\n",
       "    </tr>\n",
       "    <tr>\n",
       "      <th>12</th>\n",
       "      <td>8470.880208</td>\n",
       "    </tr>\n",
       "    <tr>\n",
       "      <th>13</th>\n",
       "      <td>8547.986730</td>\n",
       "    </tr>\n",
       "    <tr>\n",
       "      <th>14</th>\n",
       "      <td>8574.019196</td>\n",
       "    </tr>\n",
       "    <tr>\n",
       "      <th>15</th>\n",
       "      <td>8509.700363</td>\n",
       "    </tr>\n",
       "    <tr>\n",
       "      <th>16</th>\n",
       "      <td>8510.340285</td>\n",
       "    </tr>\n",
       "    <tr>\n",
       "      <th>17</th>\n",
       "      <td>8476.587856</td>\n",
       "    </tr>\n",
       "    <tr>\n",
       "      <th>18</th>\n",
       "      <td>8621.852036</td>\n",
       "    </tr>\n",
       "    <tr>\n",
       "      <th>19</th>\n",
       "      <td>8776.604529</td>\n",
       "    </tr>\n",
       "    <tr>\n",
       "      <th>20</th>\n",
       "      <td>8724.743942</td>\n",
       "    </tr>\n",
       "    <tr>\n",
       "      <th>21</th>\n",
       "      <td>8727.782794</td>\n",
       "    </tr>\n",
       "    <tr>\n",
       "      <th>22</th>\n",
       "      <td>8653.870506</td>\n",
       "    </tr>\n",
       "    <tr>\n",
       "      <th>23</th>\n",
       "      <td>8752.413148</td>\n",
       "    </tr>\n",
       "    <tr>\n",
       "      <th>24</th>\n",
       "      <td>8769.939828</td>\n",
       "    </tr>\n",
       "    <tr>\n",
       "      <th>25</th>\n",
       "      <td>8794.811037</td>\n",
       "    </tr>\n",
       "    <tr>\n",
       "      <th>26</th>\n",
       "      <td>8756.391930</td>\n",
       "    </tr>\n",
       "    <tr>\n",
       "      <th>27</th>\n",
       "      <td>8576.509543</td>\n",
       "    </tr>\n",
       "    <tr>\n",
       "      <th>28</th>\n",
       "      <td>8557.621366</td>\n",
       "    </tr>\n",
       "    <tr>\n",
       "      <th>29</th>\n",
       "      <td>8527.038264</td>\n",
       "    </tr>\n",
       "  </tbody>\n",
       "</table>\n",
       "</div>"
      ],
      "text/plain": [
       "    Predicted Price\n",
       "0       9182.814182\n",
       "1       9003.881065\n",
       "2       8930.371806\n",
       "3       8874.796501\n",
       "4       8943.944327\n",
       "5       8849.502734\n",
       "6       8804.258168\n",
       "7       8762.367179\n",
       "8       8628.207390\n",
       "9       8603.553545\n",
       "10      8540.331580\n",
       "11      8561.376841\n",
       "12      8470.880208\n",
       "13      8547.986730\n",
       "14      8574.019196\n",
       "15      8509.700363\n",
       "16      8510.340285\n",
       "17      8476.587856\n",
       "18      8621.852036\n",
       "19      8776.604529\n",
       "20      8724.743942\n",
       "21      8727.782794\n",
       "22      8653.870506\n",
       "23      8752.413148\n",
       "24      8769.939828\n",
       "25      8794.811037\n",
       "26      8756.391930\n",
       "27      8576.509543\n",
       "28      8557.621366\n",
       "29      8527.038264"
      ]
     },
     "execution_count": 17,
     "metadata": {},
     "output_type": "execute_result"
    }
   ],
   "source": [
    "df1 = pd.DataFrame(lr_p, columns =['Predicted Price']) #converting the array into dataframe\n",
    "df1 "
   ]
  },
  {
   "cell_type": "code",
   "execution_count": null,
   "metadata": {},
   "outputs": [],
   "source": []
  }
 ],
 "metadata": {
  "kernelspec": {
   "display_name": "Python 3",
   "language": "python",
   "name": "python3"
  },
  "language_info": {
   "codemirror_mode": {
    "name": "ipython",
    "version": 3
   },
   "file_extension": ".py",
   "mimetype": "text/x-python",
   "name": "python",
   "nbconvert_exporter": "python",
   "pygments_lexer": "ipython3",
   "version": "3.8.5"
  }
 },
 "nbformat": 4,
 "nbformat_minor": 4
}
